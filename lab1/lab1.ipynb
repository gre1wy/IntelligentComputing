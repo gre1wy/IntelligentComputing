{
 "cells": [
  {
   "cell_type": "code",
   "execution_count": 2,
   "metadata": {},
   "outputs": [],
   "source": [
    "import numpy as np\n",
    "import matplotlib.pyplot as plt\n",
    "import matplotlib.animation as animation\n",
    "from mpl_toolkits.mplot3d import Axes3D"
   ]
  },
  {
   "cell_type": "code",
   "execution_count": 3,
   "metadata": {},
   "outputs": [],
   "source": [
    "def branin(x, y):\n",
    "    a, b, c, d, e, f = 1.0, 5.1 / (4 * np.pi ** 2), 5 / np.pi, 6, 10, 1 / (8 * np.pi)\n",
    "    return a * (y - b * x ** 2 + c * x - d) ** 2 + e * (1 - f) * np.cos(x) + e\n",
    "\n",
    "def easom(x, y):\n",
    "    return -np.cos(x) * np.cos(y) * np.exp(-((x - np.pi) ** 2 + (y - np.pi) ** 2))\n",
    "\n",
    "def goldstein_price(x, y):\n",
    "    term1 = (1 + ((x + y + 1) ** 2) * (19 - 14*x + 3*x**2 - 14*y + 6*x*y + 3*y**2))\n",
    "    term2 = (30 + ((2*x - 3*y) ** 2) * (18 - 32*x + 12*x**2 + 48*y - 36*x*y + 27*y**2))\n",
    "    return term1 * term2\n",
    "\n",
    "def six_hump_camel(x, y):\n",
    "    return (4 - 2.1 * x ** 2 + (x ** 4) / 3) * x ** 2 + x * y + (-4 + 4 * y ** 2) * y ** 2\n"
   ]
  },
  {
   "cell_type": "code",
   "execution_count": 4,
   "metadata": {},
   "outputs": [],
   "source": [
    "def select_parents(population, fitness, num_parents):\n",
    "    fitness_min = np.min(fitness)\n",
    "    adjusted_fitness = fitness - fitness_min \n",
    "    \n",
    "    probabilities = np.exp(-adjusted_fitness)  \n",
    "    probabilities += 1e-10 \n",
    "    probabilities /= np.sum(probabilities)\n",
    "\n",
    "    best_idx = np.argmin(fitness)  \n",
    "    parents = [population[best_idx]]  \n",
    "\n",
    "    num_remaining_parents = num_parents - 1 \n",
    "    if num_remaining_parents > 0:\n",
    "        remaining_indices = np.random.choice(len(population), num_remaining_parents, replace=False, p=probabilities)\n",
    "        parents.extend(population[remaining_indices])\n",
    "\n",
    "    return np.array(parents)\n",
    "\n",
    "def arithmetic_crossover(p1, p2):\n",
    "    alpha = np.random.rand()\n",
    "    child1 = alpha * p1 + (1 - alpha) * p2\n",
    "    child2 = (1 - alpha) * p1 + alpha * p2\n",
    "    return child1, child2\n",
    "\n",
    "def adaptive_mutation(offspring, generation, max_generations, mutation_rate, extra_mutation=0):\n",
    "    if extra_mutation:\n",
    "        mutation_strength = extra_mutation\n",
    "    else:\n",
    "        mutation_strength = 0.1 * (1 - generation / max_generations) \n",
    "\n",
    "    mutations = np.random.uniform(-mutation_strength, mutation_strength, offspring.shape)\n",
    "    offspring += mutations * (np.random.rand(*offspring.shape) < mutation_rate)\n",
    "    return offspring"
   ]
  },
  {
   "cell_type": "code",
   "execution_count": 5,
   "metadata": {},
   "outputs": [],
   "source": [
    "\n",
    "def genetic_algorithm(func, bounds, pop_size=50, generations=100, mutation_rate=0.7, crossover_rate=0.8, stagnation_limit=10, epsilon=1e-8):\n",
    "    population = np.random.uniform(bounds[:, 0], bounds[:, 1], (pop_size, 2))\n",
    "    best_points = []  \n",
    "    all_populations = []  \n",
    "    best_fitness = float('inf')\n",
    "    stagnation_counter = 0  \n",
    "\n",
    "    for gen in range(generations):\n",
    "        fitness = np.array([func(*ind) for ind in population])\n",
    "\n",
    "        best_idx = np.argmin(fitness)\n",
    "        current_best_fitness = fitness[best_idx]\n",
    "        best_points.append(tuple(population[best_idx]))\n",
    "        all_populations.append(population.copy())\n",
    "\n",
    "        if abs(current_best_fitness - best_fitness) < epsilon:\n",
    "            stagnation_counter += 1\n",
    "        else:\n",
    "            stagnation_counter = 0  \n",
    "\n",
    "        best_fitness = current_best_fitness\n",
    "\n",
    "        if stagnation_counter >= 5:\n",
    "            extra_mutation = np.max(bounds) * 0.1\n",
    "        else:\n",
    "            extra_mutation = 0\n",
    "\n",
    "        if stagnation_counter >= stagnation_limit:\n",
    "            print(f\"Early stopping at generation {gen} due to minimal progress.\")\n",
    "            break\n",
    "\n",
    "        selected = select_parents(population, fitness, pop_size // 2)\n",
    "        offspring = []\n",
    "\n",
    "        for _ in range(pop_size // 2):\n",
    "            p1, p2 = selected[np.random.choice(len(selected), 2, replace=False)]\n",
    "            \n",
    "            if np.random.rand() < crossover_rate:\n",
    "                child1, child2 = arithmetic_crossover(p1, p2)  \n",
    "                offspring.append(child1)\n",
    "                offspring.append(child2)\n",
    "            else:\n",
    "                offspring.append(p1)\n",
    "                offspring.append(p2)\n",
    "\n",
    "        offspring = np.array(offspring)\n",
    "        offspring = adaptive_mutation(offspring, gen, generations, mutation_rate, extra_mutation)  \n",
    "        offspring = np.clip(offspring, bounds[:, 0], bounds[:, 1])\n",
    "\n",
    "        population = np.vstack((selected, offspring))\n",
    "\n",
    "        if gen % 10 == 0:\n",
    "            print(f\"Gen {gen}: Best Fitness = {best_fitness:.6f}\")\n",
    "\n",
    "    return best_points, all_populations"
   ]
  },
  {
   "cell_type": "code",
   "execution_count": 6,
   "metadata": {},
   "outputs": [
    {
     "name": "stdout",
     "output_type": "stream",
     "text": [
      "Gen 0: Best Fitness = 1.087695\n",
      "Gen 10: Best Fitness = 0.399568\n",
      "Gen 20: Best Fitness = 0.398215\n",
      "Early stopping at generation 27 due to minimal progress.\n"
     ]
    },
    {
     "data": {
      "text/plain": [
       "((np.float64(9.419807602276048), np.float64(2.485272474493543)),\n",
       " np.float64(0.3982151111477048))"
      ]
     },
     "execution_count": 6,
     "metadata": {},
     "output_type": "execute_result"
    }
   ],
   "source": [
    "bounds = np.array([[-5, 10], [0, 15]])\n",
    "\n",
    "best_points, all_populations = genetic_algorithm(branin, bounds, pop_size=50, generations=100)\n",
    "\n",
    "best_solution = best_points[-1]\n",
    "best_value = branin(*best_solution)\n",
    "\n",
    "best_solution, best_value"
   ]
  },
  {
   "cell_type": "code",
   "execution_count": null,
   "metadata": {},
   "outputs": [],
   "source": []
  }
 ],
 "metadata": {
  "kernelspec": {
   "display_name": "venv_6semestr",
   "language": "python",
   "name": "python3"
  },
  "language_info": {
   "codemirror_mode": {
    "name": "ipython",
    "version": 3
   },
   "file_extension": ".py",
   "mimetype": "text/x-python",
   "name": "python",
   "nbconvert_exporter": "python",
   "pygments_lexer": "ipython3",
   "version": "3.13.0"
  }
 },
 "nbformat": 4,
 "nbformat_minor": 2
}
