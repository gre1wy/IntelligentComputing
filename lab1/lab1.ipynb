{
 "cells": [
  {
   "cell_type": "code",
   "execution_count": 27,
   "metadata": {},
   "outputs": [],
   "source": [
    "import numpy as np\n",
    "import matplotlib.pyplot as plt\n",
    "import matplotlib.animation as animation\n",
    "from mpl_toolkits.mplot3d import Axes3D"
   ]
  },
  {
   "cell_type": "code",
   "execution_count": 28,
   "metadata": {},
   "outputs": [],
   "source": [
    "def branin(x, y):\n",
    "    a, b, c, d, e, f = 1.0, 5.1 / (4 * np.pi ** 2), 5 / np.pi, 6, 10, 1 / (8 * np.pi)\n",
    "    return a * (y - b * x ** 2 + c * x - d) ** 2 + e * (1 - f) * np.cos(x) + e\n",
    "\n",
    "def easom(x, y):\n",
    "    return -np.cos(x) * np.cos(y) * np.exp(-((x - np.pi) ** 2 + (y - np.pi) ** 2))\n",
    "\n",
    "def goldstein_price(x, y):\n",
    "    term1 = (1 + ((x + y + 1) ** 2) * (19 - 14*x + 3*x**2 - 14*y + 6*x*y + 3*y**2))\n",
    "    term2 = (30 + ((2*x - 3*y) ** 2) * (18 - 32*x + 12*x**2 + 48*y - 36*x*y + 27*y**2))\n",
    "    return term1 * term2\n",
    "\n",
    "def six_hump_camel(x, y):\n",
    "    return (4 - 2.1 * x ** 2 + (x ** 4) / 3) * x ** 2 + x * y + (-4 + 4 * y ** 2) * y ** 2\n"
   ]
  },
  {
   "cell_type": "code",
   "execution_count": 29,
   "metadata": {},
   "outputs": [],
   "source": [
    "\n",
    "# Генетичний алгоритм\n",
    "def genetic_algorithm(func, bounds, pop_size=20, generations=100, mutation_rate=0.1, crossover_rate=0.7):\n",
    "    population = np.random.uniform(bounds[:, 0], bounds[:, 1], (pop_size, 2))\n",
    "    best_points = []  \n",
    "    all_populations = []  \n",
    "    \n",
    "    for gen in range(generations):\n",
    "        fitness = np.array([func(ind[0], ind[1]) for ind in population])\n",
    "        best_idx = np.argmin(fitness)\n",
    "        best_points.append(tuple(population[best_idx]))\n",
    "        all_populations.append(population.copy())\n",
    "        \n",
    "        selected = population[np.argsort(fitness)[:pop_size//2]]\n",
    "        offspring = []\n",
    "        for _ in range(pop_size // 2):\n",
    "            p1, p2 = selected[np.random.choice(len(selected), 2, replace=False)]\n",
    "            if np.random.rand() < crossover_rate:\n",
    "                alpha = np.random.rand()\n",
    "                child = alpha * p1 + (1 - alpha) * p2\n",
    "                offspring.append(child)\n",
    "            else:\n",
    "                offspring.append(p1)\n",
    "                offspring.append(p2)\n",
    "        \n",
    "        offspring = np.array(offspring)\n",
    "        mutations = np.random.uniform(-0.1, 0.1, offspring.shape) * (np.random.rand(*offspring.shape) < mutation_rate)\n",
    "        offspring += mutations\n",
    "        offspring = np.clip(offspring, bounds[:, 0], bounds[:, 1])\n",
    "        population = np.vstack((selected, offspring))\n",
    "    \n",
    "    return best_points, all_populations\n",
    "\n",
    "# Межі визначення функцій\n",
    "bounds_dict = {\n",
    "    'branin': np.array([[-5, 10], [0, 15]]),\n",
    "    'easom': np.array([[-100, 100], [-100, 100]]),\n",
    "    'goldstein_price': np.array([[-2, 2], [-2, 2]]),\n",
    "    'six_hump_camel': np.array([[-3, 3], [-2, 2]])\n",
    "}\n",
    "\n",
    "functions = {\n",
    "    'branin': branin,\n",
    "    'easom': easom,\n",
    "    'goldstein_price': goldstein_price,\n",
    "    'six_hump_camel': six_hump_camel\n",
    "}"
   ]
  },
  {
   "cell_type": "code",
   "execution_count": 30,
   "metadata": {},
   "outputs": [],
   "source": [
    "best_points, all_populations = genetic_algorithm(branin, bounds_dict['branin'])"
   ]
  },
  {
   "cell_type": "code",
   "execution_count": null,
   "metadata": {},
   "outputs": [],
   "source": [
    "\n",
    "\n",
    "def create_optimization_gif(func, bounds, best_points, all_populations, filename=\"optimization.gif\"):\n",
    "    x = np.linspace(bounds[0, 0], bounds[0, 1], 100)\n",
    "    y = np.linspace(bounds[1, 0], bounds[1, 1], 100)\n",
    "    X, Y = np.meshgrid(x, y)\n",
    "    Z = func(X, Y)\n",
    "    \n",
    "    fig = plt.figure(figsize=(8, 6))\n",
    "    ax = fig.add_subplot(111, projection='3d')\n",
    "    \n",
    "    def update(frame):\n",
    "        ax.clear()\n",
    "        ax.plot_surface(X, Y, Z, cmap='coolwarm', alpha=1)\n",
    "        \n",
    "        population = all_populations[frame]\n",
    "        ax.scatter(population[:, 0], population[:, 1], [func(ind[0], ind[1]) for ind in population], color='red', s=5, label='Population')\n",
    "        \n",
    "        best_x, best_y = best_points[frame]\n",
    "        best_z = func(best_x, best_y)\n",
    "        ax.scatter(best_x, best_y, best_z, color='yellow', s=50, label=f'Best {best_z:.4f}')\n",
    "        \n",
    "        ax.set_xlabel(\"X\")\n",
    "        ax.set_ylabel(\"Y\")\n",
    "        ax.set_zlabel(\"Z\")\n",
    "        ax.set_title(f\"Optimization Progress (Iteration {frame+1})\")\n",
    "        ax.legend()\n",
    "    \n",
    "    ani = animation.FuncAnimation(fig, update, frames=len(best_points), repeat=False)\n",
    "    ani.save(filename, writer=\"pillow\", fps=5)\n",
    "    plt.close()\n"
   ]
  },
  {
   "cell_type": "code",
   "execution_count": 32,
   "metadata": {},
   "outputs": [],
   "source": [
    "create_optimization_gif(branin, bounds_dict['branin'], best_points, all_populations, filename=\"branin_optimization.gif\")"
   ]
  },
  {
   "cell_type": "code",
   "execution_count": null,
   "metadata": {},
   "outputs": [],
   "source": []
  }
 ],
 "metadata": {
  "kernelspec": {
   "display_name": "venv_6semestr",
   "language": "python",
   "name": "python3"
  },
  "language_info": {
   "codemirror_mode": {
    "name": "ipython",
    "version": 3
   },
   "file_extension": ".py",
   "mimetype": "text/x-python",
   "name": "python",
   "nbconvert_exporter": "python",
   "pygments_lexer": "ipython3",
   "version": "3.13.0"
  }
 },
 "nbformat": 4,
 "nbformat_minor": 2
}
